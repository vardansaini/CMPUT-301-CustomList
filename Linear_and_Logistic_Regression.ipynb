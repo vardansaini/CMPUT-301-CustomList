{
  "nbformat": 4,
  "nbformat_minor": 0,
  "metadata": {
    "kernelspec": {
      "display_name": "Python 3",
      "language": "python",
      "name": "python3"
    },
    "language_info": {
      "codemirror_mode": {
        "name": "ipython",
        "version": 3
      },
      "file_extension": ".py",
      "mimetype": "text/x-python",
      "name": "python",
      "nbconvert_exporter": "python",
      "pygments_lexer": "ipython3",
      "version": "3.7.2"
    },
    "colab": {
      "name": "Linear and Logistic Regression.ipynb",
      "provenance": [],
      "collapsed_sections": [],
      "include_colab_link": true
    }
  },
  "cells": [
    {
      "cell_type": "markdown",
      "metadata": {
        "id": "view-in-github",
        "colab_type": "text"
      },
      "source": [
        "<a href=\"https://colab.research.google.com/github/vardansaini/CMPUT-301-CustomList/blob/master/Linear_and_Logistic_Regression.ipynb\" target=\"_parent\"><img src=\"https://colab.research.google.com/assets/colab-badge.svg\" alt=\"Open In Colab\"/></a>"
      ]
    },
    {
      "cell_type": "markdown",
      "metadata": {
        "id": "xjn7v84gWsAn"
      },
      "source": [
        "<h2>Assignment 3 - Linear and Logistic Regression to Recognize Handwritten Digits [12 Marks]</h2>\n",
        "<br>\n",
        "<b>Due Date:</b> November 24 at 23.59.<br>\n",
        "<b>What to submit:</b> An html version of this notebook (File -> Download as)\n",
        "\n",
        "In this assignment you will implement Linear Regression and two variations of Logistic Regression for recognizing handwritten digits. We will use the MNIST data set to learn the classifiers. In the next cell we will download the data set and look at a few images. You will have to install tensorflow to download the data set from the code. You should be able to install it with:\n",
        "\n",
        "<i>pip install tensorflow</i>\n",
        "\n",
        "Let one of the instructors know if that does not work for you. \n",
        "\n",
        "<b>Warning:</b> This assignment requires that you perform operations with matrices in Numpy (e.g., multiplication and summation of the column vectors of a matrix). You should discover by yourself how to use the operations needed to complete the assignment. Numpy's documentation can be a good resource: https://numpy.org/doc/stable/"
      ]
    },
    {
      "cell_type": "code",
      "metadata": {
        "id": "Ev-_m7jwWsAv",
        "colab": {
          "base_uri": "https://localhost:8080/",
          "height": 385
        },
        "outputId": "81c3b5a7-bc46-4fe7-f93a-4c779ae41151"
      },
      "source": [
        "from keras.datasets import mnist\n",
        "import matplotlib.pyplot as plt\n",
        "import numpy as np\n",
        "\n",
        "def plot_digit(image):\n",
        "    \"\"\"\n",
        "    This function receives an image and plots the digit. \n",
        "    \"\"\"\n",
        "    plt.imshow(image, cmap='gray')\n",
        "    plt.savefig('digit2')\n",
        "    plt.show()\n",
        "\n",
        "# The x variables contain the images of handwritten digits the y variables contain their labels indicating \n",
        "# which digit is in the image. We will see an example of image and label shortly. We have two data sets here:\n",
        "# training and test sets. The idea is that we use the training set to learn the function and then we evaluate \n",
        "# the system on images the model did not see during training. This is to simulate the scenario in which we build \n",
        "# a system and we use it in the wild, where people write new digits and we would like our system to accurately \n",
        "# recognize them.\n",
        "(x_train, y_train), (x_test, y_test) = mnist.load_data()\n",
        "\n",
        "# Each image is of size 28x28 and the training data set has 60,000 images\n",
        "# the shape of x_train should then be (60000, 28, 28).\n",
        "print(x_train.shape)\n",
        "\n",
        "# Let's take a look at the first training instance. The image shows the digit 5. \n",
        "# Feel free to change the index of x_train to see other images. \n",
        "plot_digit(x_train[0])\n",
        "\n",
        "# The y_train structure has shape 60,0000, with one entry for each image. The value of the first\n",
        "# entry of y_train should be a five, indicating that the first image is of a 5.\n",
        "print(y_train.shape)\n",
        "print('Label: ', y_train[0])"
      ],
      "execution_count": 2,
      "outputs": [
        {
          "output_type": "stream",
          "name": "stdout",
          "text": [
            "Downloading data from https://storage.googleapis.com/tensorflow/tf-keras-datasets/mnist.npz\n",
            "11493376/11490434 [==============================] - 0s 0us/step\n",
            "11501568/11490434 [==============================] - 0s 0us/step\n",
            "(60000, 28, 28)\n"
          ]
        },
        {
          "output_type": "display_data",
          "data": {
            "image/png": "[encoded data removed]",
            "text/plain": [
              "<Figure size 432x288 with 1 Axes>"
            ]
          },
          "metadata": {
            "needs_background": "light"
          }
        },
        {
          "output_type": "stream",
          "name": "stdout",
          "text": [
            "(60000,)\n",
            "Label:  5\n"
          ]
        }
      ]
    },
    {
      "cell_type": "code",
      "metadata": {
        "id": "XsMccoACWsAw",
        "colab": {
          "base_uri": "https://localhost:8080/"
        },
        "outputId": "7443cb17-48ae-4d77-d727-9e626cb969f1"
      },
      "source": [
        "# Instead of using all 60,000 images, we will use 20,000 in our experiments to speed up training.\n",
        "training_size = 20000\n",
        "\n",
        "# We will flatten the images to make our implementation easier. Instead of providing \n",
        "# an image of size 28x28 as input, we will provide a vector of size 784, with one entry \n",
        "# for each pixel of the image. We will also normalize the values in the images. The pixels\n",
        "# values in the images vary from 0 to 255. We normalize them to avoid overflow during training. \n",
        "# Normalization also helps training because the optimization landscape is friendiler to gradient \n",
        "# descent once the input values are normalized. Studying the effects of the input values in the\n",
        "# optimization landscape is outside the scope of this course. \n",
        "images, labels = (x_train[0:training_size].reshape(training_size, 28*28) / 255, y_train[0:training_size])\n",
        "\n",
        "# The flattened images will be kept as column vectors in the matrix images\n",
        "images = images.T\n",
        "print('Shape of flattned images: ', images.shape)\n",
        "\n",
        "# Here we apply the same transformations described above on the test data. \n",
        "images_test = x_test.reshape(x_test.shape[0], 28*28) / 255\n",
        "images_test = images_test.T"
      ],
      "execution_count": 3,
      "outputs": [
        {
          "output_type": "stream",
          "name": "stdout",
          "text": [
            "Shape of flattned images:  (784, 20000)\n"
          ]
        }
      ]
    },
    {
      "cell_type": "markdown",
      "metadata": {
        "id": "AA40cpzRWsAw"
      },
      "source": [
        "<h3>Training Linear and Logistic Regression</h3>\n",
        "\n",
        "We will train one function $h_{w_i}$ for each digit $i$, which will be parameterized by a vector $w_i$ and a scalar $b_i$. The vector $w_i$ will contain one entry for each pixel in the flattened image. That way, if an image $x$ contains the digit $i$, then the hypothesis $h_{w_i}(x)$ should produce a number close to $1$; the operation should produce a number close to $0$ if image $x$ does not contain digit $i$. \n",
        "\n",
        "$h_{w_i}$ is defined as follows for Linear Regression :\n",
        "\n",
        "\\begin{equation*}\n",
        "h_{w_i} = w_i \\cdot x + b\n",
        "\\end{equation*}\n",
        "\n",
        "While it is defined as follows for Logistic Regression:\n",
        "\n",
        "\\begin{equation*}\n",
        "h_{w_i} = g(w_i \\cdot x + b)\\,.\n",
        "\\end{equation*}\n",
        "where $g$ is the logistic function $\\frac{1}{1 + e^{-z}}$.\n",
        "\n",
        "Given an image $x$, our model predicts digit $i$ for the largest value returned by $h_{w_i}$ for all $i$. For example, if we pass the first image of the training data x_train[0] to the model, then the model will predict the digit 5 correctly if the output of the functions $h_{w_i}$ are similar to the following (these are made-up numbers to illustrate the procedure).\n",
        "\n",
        "\\begin{align*}\n",
        "h_{w_0} &= 0.1 \\\\\n",
        "h_{w_1} &= 0.01 \\\\\n",
        "h_{w_2} &= 0.05 \\\\\n",
        "h_{w_3} &= 0.25 \\\\\n",
        "h_{w_4} &= 0.40 \\\\\n",
        "h_{w_5} &= 0.95 \\\\\n",
        "h_{w_6} &= 0.80 \\\\\n",
        "h_{w_7} &= 0.12 \\\\\n",
        "h_{w_8} &= 0.71 \\\\\n",
        "h_{w_9} &= 0.01 \\\\\n",
        "\\end{align*}\n",
        "\n",
        "Since $h_{w_5}$ is the largest value, the model will predict that the image is of the digit 5.\n",
        "\n",
        "We will use the training data (variables images and labels) to discover vectors $w_i$ and scalars $b_i$ that classify most of the training data correctly. This will be achieved by defining an error function and then applying gradient descent to minimize the error. We will adjust the values of $w_i$ and $b_i$ to reduce the error for each function $h_{w_i}$. \n",
        "\n",
        "Let $y$ be the label of an image $x$ for a specific function $h_{w_i}$. $y = 0$ if $x$ does not contain the digit $i$ and $y = 1$ otherwise. We will use the Mean Squared Error (MSE) loss function $J(w_i)$ for Linear Regression and one of the versions of Logistic Regression. MSE is defined as follows, where $m$ is the number of training instances. \n",
        "\\begin{equation*}\n",
        "J(w_i) = \\frac{1}{2m} \\sum_{x, y} (h_{w_i}(x) - y)^2\n",
        "\\end{equation*}\n",
        "As an example, if $h_{w_i}(x) = 0.95$ for an image that does not contain digit $i$, then the error for this particular image will be $(0.95 - 0)^2 = 0.9025$; if $h_{w_i}(x) = 0$, then the error would have been zero for this instance. The positive error informs gradient descent that the values of $w_i$ need to be adjusted to reduce the error.  \n",
        "\n",
        "<h3>Gradient Descent</h3>\n",
        "\n",
        "We will initialize the values of $w_i$ with random values close to zero (this is already implemented for you) and $b$ with zeros and then adjust them according to gradient descent. \n",
        "\n",
        "Let $w_{i, j}$ be the $j$-th value of the vector $w_i$ for digit $i$. The value of $w_{i, j}$ and $b_i$ will be modified according to gradient descent (see equations below), where $\\alpha$ is a small value indicating the size of the step performed by gradient descent. Recall from the lectures that if $\\alpha$ is large gradient descent might fail to find the minimum of the error function. We will use $\\alpha = 0.05$ in our experiments. \n",
        "\n",
        "Gradient descent uses the two equations below for Linear Regression and the two versions of Logistic Regression you will implement. \n",
        "\n",
        "\\begin{align*}\n",
        "w_{i, j} &= w_{i, j} - \\alpha \\frac{\\partial J(w_i)}{\\partial w_{i, j}} \\text{ for all }j \\\\\n",
        "b &= b - \\alpha \\frac{\\partial J(w_i)}{\\partial b}\n",
        "\\end{align*}\n",
        "\n",
        "If implemented correctly, the equations above finds values of $w_i$ and $b_i$ that correctly classify at least 85\\% of the test data. The problem with the approach described is that we need to implement 10 different functions, one for each digit. This is not only time consuming but also computationally expensive. Instead, we will discuss a vectorized version of the algorithm described above. \n",
        "\n",
        "<h3> Vectorized Implementation </h3>\n",
        "\n",
        "In our vectorized implementation the model will produce a vector as output, with one entry for each digit. This way we will not need to implement one function $h_{w_i}$ for each digit, we will implement a single function $h_{W}$ for all digits, where $W$ is a matrix containing all vectors $w_i$ as row vectors. In addition to the matrix $W$, we will use a vector $B$ with one entry for each digit. The input images will be provided as a matrix $X$ with one flattened image in each column of $X$. \n",
        "\n",
        "The labels will also be provided as a matrix $Y$ of shape $(10, m)$, where $m$ is the number of instances in the training set. Each column of $Y$ is a one-hot vector (i.e., a vector with one entry equals $1$ and all other entries equal $0$). The entry with value of $1$ in a one-hot vector indicates the digit of the image. \n",
        "\n",
        "Here are all matrices we will use in our vectorized representation.\n",
        "\n",
        "\\begin{align*}\n",
        "X =& \n",
        " \\begin{bmatrix}\n",
        " p_{0,0} &  p_{0, 1} & \\cdots &  p_{0, m-1} \\\\\n",
        " p_{1, 0} &  p_{1,1} & \\cdots &  p_{1, m-1} \\\\\n",
        " \\cdots & \\cdots & \\cdots & \\cdots \\\\\n",
        "  p_{783, 0} &  p_{783, 1} & \\cdots &  p_{783, m-1} \\\\\n",
        "\\end{bmatrix} \\\\\n",
        "W =& \n",
        " \\begin{bmatrix}\n",
        "w_{0,0} & w_{0,1} & \\cdots & w_{0,783} \\\\\n",
        "w_{1,0} & w_{1,1} & \\cdots & w_{1,783} \\\\\n",
        "\\cdots & \\cdots & \\cdots & \\cdots \\\\\n",
        "w_{9,0} & w_{9,1} & \\cdots & w_{9,783} \\\\\n",
        "\\end{bmatrix} \\\\\n",
        "B =& \n",
        " \\begin{bmatrix}\n",
        "b_0 \\\\\n",
        "b_1 \\\\\n",
        "\\cdots \\\\\n",
        "b_9\n",
        "\\end{bmatrix} \\\\\n",
        "Y =& \n",
        " \\begin{bmatrix}\n",
        " y_{0,0} &  y_{0, 1} & \\cdots &  y_{0, m-1} \\\\\n",
        " y_{1, 0} &  y_{1,1} & \\cdots &  y_{1, m-1} \\\\\n",
        " \\cdots & \\cdots & \\cdots & \\cdots \\\\\n",
        "  y_{9, 0} &  y_{9, 1} & \\cdots & y_{9, m-1} \\\\\n",
        "\\end{bmatrix} \\\\\n",
        "\\end{align*}\n",
        "\n",
        "<h4>Forward Propagation</h4>\n",
        "\n",
        "Using the matrices above we can predict the label of all instances in a data set by performing the operation $\\hat{Y} = W.$dot$(X) + B$ for Linear Regression and the operation $\\hat{Y} = g(W.$dot$(X) + B)$ for Logistic Regression. The largest number in each column of matrix $\\hat{Y}$ will indicate the predicted label. \n",
        "\n",
        "\n",
        "<h4>Backward Propagation</h4>\n",
        "\n",
        "Let $E = \\hat{Y} - Y$ be the matrix with the pure errors. The gradients of the bias terms can be computed by adding all column vectors of $E$, while the gradients for the weights can be computed as $E.dot(X.T)$. The average value is computed by dividing the values obtained with the operations above by $m$. We can now apply Gradient Descent by making a small step in the opposite direction of the gradients. "
      ]
    },
    {
      "cell_type": "markdown",
      "metadata": {
        "id": "Yko9BlaiWsAx"
      },
      "source": [
        "<h3>Linear Regression [2 Marks]</h3>\n",
        "\n",
        "We will start by implementing Linear Regression. Most of the code is already provided below. Read the code carefully and implement what is missing. "
      ]
    },
    {
      "cell_type": "code",
      "metadata": {
        "id": "q_1QdungWsAx"
      },
      "source": [
        "class LinearRegression:\n",
        "    \n",
        "    def __init__(self, x_train, y_train, x_test, y_test):\n",
        "        \"\"\"\n",
        "        Constructor assumes a x_train matrix in which each column contains an instance.\n",
        "        Vector y_train contains one integer for each instance, indicating the instance's label. \n",
        "        \n",
        "        Constructor initializes the weights W and B, alpha, and a one-vector Y containing the labels\n",
        "        of the training set. Here we assume there are 10 labels in the dataset. \n",
        "        \"\"\"\n",
        "        self._x_train = x_train\n",
        "        self._y_train = y_train\n",
        "        self._x_test = x_test\n",
        "        self._y_test = y_test\n",
        "        self._m = x_train.shape[1]\n",
        "        \n",
        "        self._W = np.random.randn(10, 784) * 0.01\n",
        "        self._B = np.zeros((10, 1))\n",
        "        self._Y = np.zeros((10, self._m))\n",
        "        self._alpha = 0.05\n",
        "\n",
        "        for index, value in enumerate(labels):\n",
        "            self._Y[value][index] = 1\n",
        "            \n",
        "    def return_weights_of_digit(self, digit):\n",
        "        \"\"\"\n",
        "        Returns the weights of the model for a given digit\n",
        "        \"\"\"\n",
        "        return self._W[digit, :]\n",
        "            \n",
        "    def h_theta(self, X):\n",
        "        \"\"\"\n",
        "        Computes the value of the hypothesis according to the linear regression rule\n",
        "        \"\"\"\n",
        "        \n",
        "        # Write the computation of the hypothesis for a given matrix X\n",
        "        #print(X.shape)\n",
        "        #print(self._W.shape)\n",
        "    \n",
        "        return np.add(np.dot(self._W, X), self._B)\n",
        "    \n",
        "    def train(self, iterations):\n",
        "        \"\"\"\n",
        "        Performs a number of iterations of gradient descend equals to the parameter passed as input.\n",
        "        \n",
        "        Returns a list with the percentage of instances classified correctly in the training and in the test sets.\n",
        "        \"\"\"\n",
        "        classified_correctly_train_list = []\n",
        "        classified_correctly_test_list = []\n",
        "        \n",
        "        for i in range(iterations):\n",
        "            # Write the following four lines of code for computing the value produced by the model (A)\n",
        "            # The pure error for all training instances (pure_error)\n",
        "            # And adjust the matrices self._W and self._B according to the gradient descent rule\n",
        "            A = self.h_theta(self._x_train)    #trying to get image to be trained so model\n",
        "            pure_error = np.subtract(self.h_theta(self._x_train), self._Y)\n",
        "            self._W = self._W - ((self._alpha/self._m)*np.dot(pure_error, self._x_train.transpose())) \n",
        "            self._B = self._B - ((self._alpha/self._m)*np.sum(pure_error, axis=1, keepdims=True))\n",
        "\n",
        "            if i % 100 == 0:\n",
        "                classified_correctly = np.sum(np.argmax(A, axis=0) == np.argmax(self._Y, axis=0))\n",
        "                percentage_classified_correctly = (classified_correctly / self._m) * 100\n",
        "                classified_correctly_train_list.append(percentage_classified_correctly)\n",
        "                \n",
        "                Y_hat_test = self.h_theta(images_test)\n",
        "                test_correct = np.count_nonzero(np.argmax(Y_hat_test, axis=0) == self._y_test)\n",
        "                classified_correctly_test_list.append((test_correct)/len(self._y_test) * 100)\n",
        "                \n",
        "                print('Accuracy train data: %.2f' % percentage_classified_correctly)\n",
        "        return classified_correctly_train_list, classified_correctly_test_list    "
      ],
      "execution_count": 50,
      "outputs": []
    },
    {
      "cell_type": "markdown",
      "metadata": {
        "id": "SxyOW7KxWsAx"
      },
      "source": [
        "The code below will call the training procedure you have implemented for Linear Regression with 3,000 training iterations, which is the number of times the model will be adjusted with the 20,000 training instances. An iteration is often referred to as an epoch in the literature. "
      ]
    },
    {
      "cell_type": "code",
      "metadata": {
        "id": "DHwKSjRwWsAx",
        "colab": {
          "base_uri": "https://localhost:8080/"
        },
        "outputId": "301f0bc2-0172-4437-b944-45ced7adf576"
      },
      "source": [
        "lin_reg = LinearRegression(images, labels, images_test, y_test)\n",
        "print('Training Linear Regression')\n",
        "percentage_lin_reg_train, percentage_lin_reg_test = lin_reg.train(3000)"
      ],
      "execution_count": 51,
      "outputs": [
        {
          "output_type": "stream",
          "name": "stdout",
          "text": [
            "Training Linear Regression\n",
            "Accuracy train data: 10.48\n",
            "Accuracy train data: 84.41\n",
            "Accuracy train data: 85.45\n",
            "Accuracy train data: 85.78\n",
            "Accuracy train data: 85.94\n",
            "Accuracy train data: 86.00\n",
            "Accuracy train data: 86.10\n",
            "Accuracy train data: 86.11\n",
            "Accuracy train data: 86.07\n",
            "Accuracy train data: 86.06\n",
            "Accuracy train data: 86.07\n",
            "Accuracy train data: 86.11\n",
            "Accuracy train data: 86.10\n",
            "Accuracy train data: 86.11\n",
            "Accuracy train data: 86.10\n",
            "Accuracy train data: 86.11\n",
            "Accuracy train data: 86.13\n",
            "Accuracy train data: 86.09\n",
            "Accuracy train data: 86.08\n",
            "Accuracy train data: 86.07\n",
            "Accuracy train data: 86.08\n",
            "Accuracy train data: 86.06\n",
            "Accuracy train data: 86.07\n",
            "Accuracy train data: 86.08\n",
            "Accuracy train data: 86.08\n",
            "Accuracy train data: 86.09\n",
            "Accuracy train data: 86.10\n",
            "Accuracy train data: 86.11\n",
            "Accuracy train data: 86.11\n",
            "Accuracy train data: 86.11\n"
          ]
        }
      ]
    },
    {
      "cell_type": "markdown",
      "metadata": {
        "id": "p8NQHS7MWsAy"
      },
      "source": [
        "<h3>Logistic Regression with MSE Loss [2 Marks]</h3>\n",
        "\n",
        "Read carefully the code below and finish the implementation of Logistic Regression with the MSE loss function. "
      ]
    },
    {
      "cell_type": "code",
      "metadata": {
        "id": "j0ErNz_YWsAy"
      },
      "source": [
        "class LogisticRegression:\n",
        "    \n",
        "    def __init__(self, x_train, y_train, x_test, y_test):\n",
        "        \"\"\"\n",
        "        Constructor assumes a x_train matrix in which each column contains an instance.\n",
        "        Vector y_train contains one integer for each instance, indicating the instance's label. \n",
        "        \n",
        "        Constructor initializes the weights W and B, alpha, and a one-vector Y containing the labels\n",
        "        of the training set. Here we assume there are 10 labels in the dataset. \n",
        "        \"\"\"\n",
        "        self._x_train = x_train\n",
        "        self._y_train = y_train\n",
        "        self._x_test = x_test\n",
        "        self._y_test = y_test\n",
        "        self._m = x_train.shape[1]\n",
        "        \n",
        "        self._W = np.random.randn(10, 784) * 0.01\n",
        "        self._B = np.zeros((10, 1))\n",
        "        self._Y = np.zeros((10, self._m))\n",
        "        self._alpha = 0.05\n",
        "\n",
        "        for index, value in enumerate(labels):\n",
        "            self._Y[value][index] = 1\n",
        "            \n",
        "    def sigmoid(self, Z):\n",
        "        \"\"\"\n",
        "        Computes the sigmoid value for all values in vector Z\n",
        "        \"\"\"\n",
        "        # Write the computation of the sigmoid function for a given matrix Z\n",
        "        return 1/(1+np.exp(-Z))\n",
        "\n",
        "    def derivative_sigmoid(self, A):\n",
        "        \"\"\"\n",
        "        Computes the derivative of the sigmoid for all values in vector A\n",
        "        \"\"\"\n",
        "        # Write the derivative of the sigmoid function for a given value A produced by the sigmoid\n",
        "        return np.multiply(A, (1-A))\n",
        "\n",
        "    def h_theta(self, X):\n",
        "        \"\"\"\n",
        "        Computes the value of the hypothesis according to the logistic regression rule\n",
        "        \"\"\"\n",
        "        # Write the computation of the hypothesis for a given matrix X\n",
        "        return np.add(np.dot(self._W, X), self._B)\n",
        "    \n",
        "    def return_weights_of_digit(self, digit):\n",
        "        \"\"\"\n",
        "        Returns the weights of the model for a given digit\n",
        "        \"\"\"\n",
        "        return self._W[digit, :]\n",
        "    \n",
        "    def train(self, iterations):\n",
        "        \"\"\"\n",
        "        Performs a number of iterations of gradient descend equals to the parameter passed as input.\n",
        "        \n",
        "        Returns a list with the percentage of instances classified correctly in the training and in the test sets.\n",
        "        \"\"\"\n",
        "        classified_correctly_train_list = []\n",
        "        classified_correctly_test_list = []\n",
        "        \n",
        "        for i in range(iterations):\n",
        "            # Write the following four lines of code for computing the value produced by the model (A)\n",
        "            # The pure error for all training instances (pure_error)\n",
        "            # And adjust the matrices self._W and self._B according to the gradient descent rule\n",
        "            A = self.sigmoid(self.h_theta(self._x_train))\n",
        "            pure_error = np.subtract(self.h_theta(self._x_train), self._Y)\n",
        "            self._W = self._W - ((self._alpha/self._m)*np.dot(pure_error*self.derivative_sigmoid(A), np.transpose(self._x_train)))\n",
        "            self._B = self._B - ((self._alpha/self._m)*np.sum(pure_error*self.derivative_sigmoid(A)))\n",
        "\n",
        "            if i % 100 == 0:\n",
        "                classified_correctly = np.sum(np.argmax(A, axis=0) == np.argmax(self._Y, axis=0))\n",
        "                percentage_classified_correctly = (classified_correctly / self._m) * 100\n",
        "                classified_correctly_train_list.append(percentage_classified_correctly)\n",
        "                \n",
        "                Y_hat_test = self.h_theta(images_test)\n",
        "                test_correct = np.count_nonzero(np.argmax(Y_hat_test, axis=0) == self._y_test)\n",
        "                classified_correctly_test_list.append((test_correct)/len(self._y_test) * 100)\n",
        "                \n",
        "                print('Accuracy train data: %.2f' % percentage_classified_correctly)\n",
        "        return classified_correctly_train_list, classified_correctly_test_list   "
      ],
      "execution_count": 8,
      "outputs": []
    },
    {
      "cell_type": "markdown",
      "metadata": {
        "id": "1jZQAUUJWsAy"
      },
      "source": [
        "Next, we will train Logistic Regression with the MSE loss function. "
      ]
    },
    {
      "cell_type": "code",
      "metadata": {
        "id": "Z86K-lScWsAy",
        "colab": {
          "base_uri": "https://localhost:8080/"
        },
        "outputId": "a5d96f6c-92e4-43f4-eedc-47e52218b680"
      },
      "source": [
        "log_reg = LogisticRegression(images, labels, images_test, y_test)\n",
        "print('Training Logistic Regression (MSE)')\n",
        "percentage_log_reg_train, percentage_log_reg_test = log_reg.train(3000)"
      ],
      "execution_count": 16,
      "outputs": [
        {
          "output_type": "stream",
          "name": "stdout",
          "text": [
            "Training Logistic Regression (MSE)\n",
            "Accuracy train data: 10.47\n",
            "Accuracy train data: 81.15\n",
            "Accuracy train data: 83.37\n",
            "Accuracy train data: 84.00\n",
            "Accuracy train data: 84.49\n",
            "Accuracy train data: 84.70\n",
            "Accuracy train data: 84.90\n",
            "Accuracy train data: 85.05\n",
            "Accuracy train data: 85.12\n",
            "Accuracy train data: 85.26\n",
            "Accuracy train data: 85.27\n",
            "Accuracy train data: 85.28\n",
            "Accuracy train data: 85.31\n",
            "Accuracy train data: 85.32\n",
            "Accuracy train data: 85.39\n",
            "Accuracy train data: 85.46\n",
            "Accuracy train data: 85.50\n",
            "Accuracy train data: 85.52\n",
            "Accuracy train data: 85.51\n",
            "Accuracy train data: 85.50\n",
            "Accuracy train data: 85.50\n",
            "Accuracy train data: 85.52\n",
            "Accuracy train data: 85.51\n",
            "Accuracy train data: 85.49\n",
            "Accuracy train data: 85.50\n",
            "Accuracy train data: 85.50\n",
            "Accuracy train data: 85.52\n",
            "Accuracy train data: 85.52\n",
            "Accuracy train data: 85.48\n",
            "Accuracy train data: 85.49\n"
          ]
        }
      ]
    },
    {
      "cell_type": "markdown",
      "metadata": {
        "id": "H4POLPdOWsAy"
      },
      "source": [
        "<h3>Logistic Regression with Cross Entropy Loss [3 Marks]</h3>\n",
        "\n",
        "Read carefully the code below and finish the implementation of Logistic Regression with the Cross Entropy loss function. \n",
        "\n",
        "The Cross Entropy loss is defined as follows. \n",
        "\n",
        "\\begin{equation*}\n",
        "J(w_i) = - \\bigg( \\frac{1}{m} \\sum_{x, y} y \\ln(h_{w_i}(x)) + (1 - y) \\ln(1 - h_{w_i}(x)) \\bigg )\n",
        "\\end{equation*}\n",
        "\n",
        "Recall that by moving from MSE to Cross Entropy the derivation of the gradients change. "
      ]
    },
    {
      "cell_type": "code",
      "metadata": {
        "id": "2C2AsutJWsAy"
      },
      "source": [
        "class LogisticRegressionCrossEntropy:\n",
        "    \n",
        "    def __init__(self, x_train, y_train, x_test, y_test):\n",
        "        \"\"\"\n",
        "        Constructor assumes a x_train matrix in which each column contains an instance.\n",
        "        Vector y_train contains one integer for each instance, indicating the instance's label. \n",
        "        \n",
        "        Constructor initializes the weights W and B, alpha, and a one-vector Y containing the labels\n",
        "        of the training set. Here we assume there are 10 labels in the dataset. \n",
        "        \"\"\"\n",
        "        self._x_train = x_train\n",
        "        self._y_train = y_train\n",
        "        self._x_test = x_test\n",
        "        self._y_test = y_test\n",
        "        self._m = x_train.shape[1]\n",
        "        \n",
        "        self._W = np.random.randn(10, 784) * 0.01\n",
        "        self._B = np.zeros((10, 1))\n",
        "        self._Y = np.zeros((10, self._m))\n",
        "        self._alpha = 0.05\n",
        "\n",
        "        for index, value in enumerate(labels):\n",
        "            self._Y[value][index] = 1\n",
        "            \n",
        "    def sigmoid(self, Z):\n",
        "        \"\"\"\n",
        "        Computes the sigmoid value for all values in vector Z\n",
        "        \"\"\"\n",
        "        # Write the computation of the sigmoid function for a given matrix Z\n",
        "        return 1/(1+np.exp(-Z))\n",
        "\n",
        "    def derivative_sigmoid(self, A):\n",
        "        \"\"\"\n",
        "        Computes the derivative of the sigmoid for all values in vector A\n",
        "        \"\"\"\n",
        "        # Write the derivative of the sigmoid function for a given value A produced by the sigmoid\n",
        "        return (1/self._m)*np.dot(A, np.transpose(self._x_train))\n",
        "\n",
        "    def h_theta(self, X):\n",
        "        \"\"\"\n",
        "        Computes the value of the hypothesis according to the logistic regression rule\n",
        "        \"\"\"\n",
        "        # Write the computation of the hypothesis for a given matrix X\n",
        "        return np.add(np.dot(self._W, X), self._B)\n",
        "    \n",
        "    def return_weights_of_digit(self, digit):\n",
        "        \"\"\"\n",
        "        Returns the weights of the model for a given digit\n",
        "        \"\"\"\n",
        "        return self._W[digit, :]\n",
        "    \n",
        "    def train(self, iterations):\n",
        "        \"\"\"\n",
        "        Performs a number of iterations of gradient descend equals to the parameter passed as input.\n",
        "        \n",
        "        Returns a list with the percentage of instances classified correctly in the training and in the test sets.\n",
        "        \"\"\"\n",
        "        classified_correctly_train_list = []\n",
        "        classified_correctly_test_list = []\n",
        "        \n",
        "        for i in range(iterations):\n",
        "            # Write the following four lines of code for computing the value produced by the model (A)\n",
        "            # The pure error for all training instances (pure_error)\n",
        "            # And adjust the matrices self._W and self._B according to the gradient descent rule\n",
        "            A = self.sigmoid(self.h_theta(self._x_train))\n",
        "            pure_error = np.subtract(self.h_theta(self._x_train), self._Y)\n",
        "            self._W = self._W - (self._alpha*self.derivative_sigmoid(pure_error))\n",
        "            self._B = self._B - ((self._alpha/self._m)*np.sum(pure_error, axis=1, keepdims=True))\n",
        "\n",
        "            if i % 100 == 0:\n",
        "                classified_correctly = np.sum(np.argmax(A, axis=0) == np.argmax(self._Y, axis=0))\n",
        "                percentage_classified_correctly = (classified_correctly / self._m) * 100\n",
        "                classified_correctly_train_list.append(percentage_classified_correctly)\n",
        "                \n",
        "                Y_hat_test = self.h_theta(images_test)\n",
        "                test_correct = np.count_nonzero(np.argmax(Y_hat_test, axis=0) == self._y_test)\n",
        "                classified_correctly_test_list.append((test_correct)/len(self._y_test) * 100)\n",
        "                \n",
        "                print('Accuracy train data: %.2f' % percentage_classified_correctly)\n",
        "        return classified_correctly_train_list, classified_correctly_test_list   "
      ],
      "execution_count": 14,
      "outputs": []
    },
    {
      "cell_type": "markdown",
      "metadata": {
        "id": "5KZCs_hwWsAz"
      },
      "source": [
        "Finally, we will train Logistic Regression with Cross Entropy loss. "
      ]
    },
    {
      "cell_type": "code",
      "metadata": {
        "id": "7dYSzW2pWsAz",
        "colab": {
          "base_uri": "https://localhost:8080/"
        },
        "outputId": "cee28159-9da4-4e94-e100-701ea64936f3"
      },
      "source": [
        "log_reg_cross = LogisticRegressionCrossEntropy(images, labels, images_test, y_test)\n",
        "print('Training Logistic Regression (Cross Entropy)')\n",
        "percentage_log_reg_cross_train, percentage_log_reg_cross_test = log_reg_cross.train(3000)"
      ],
      "execution_count": 15,
      "outputs": [
        {
          "output_type": "stream",
          "name": "stdout",
          "text": [
            "Training Logistic Regression (Cross Entropy)\n",
            "Accuracy train data: 11.34\n",
            "Accuracy train data: 84.34\n",
            "Accuracy train data: 85.42\n",
            "Accuracy train data: 85.80\n",
            "Accuracy train data: 86.02\n",
            "Accuracy train data: 86.02\n",
            "Accuracy train data: 86.06\n",
            "Accuracy train data: 86.10\n",
            "Accuracy train data: 86.11\n",
            "Accuracy train data: 86.11\n",
            "Accuracy train data: 86.08\n",
            "Accuracy train data: 86.09\n",
            "Accuracy train data: 86.12\n",
            "Accuracy train data: 86.13\n",
            "Accuracy train data: 86.15\n",
            "Accuracy train data: 86.09\n",
            "Accuracy train data: 86.09\n",
            "Accuracy train data: 86.13\n",
            "Accuracy train data: 86.13\n",
            "Accuracy train data: 86.13\n",
            "Accuracy train data: 86.13\n",
            "Accuracy train data: 86.14\n",
            "Accuracy train data: 86.15\n",
            "Accuracy train data: 86.16\n",
            "Accuracy train data: 86.17\n",
            "Accuracy train data: 86.17\n",
            "Accuracy train data: 86.17\n",
            "Accuracy train data: 86.19\n",
            "Accuracy train data: 86.19\n",
            "Accuracy train data: 86.18\n"
          ]
        }
      ]
    },
    {
      "cell_type": "markdown",
      "metadata": {
        "id": "zWqWME9JWsAz"
      },
      "source": [
        "The next two cells will plot the training and test accuracy across the learning iterations of gradient descent for the Logistic Regression methods. "
      ]
    },
    {
      "cell_type": "code",
      "metadata": {
        "id": "DUISmPQqWsAz",
        "colab": {
          "base_uri": "https://localhost:8080/",
          "height": 332
        },
        "outputId": "524a3814-7981-409b-ccda-667cfd2e44c3"
      },
      "source": [
        "plt.xlabel('Iterations')\n",
        "plt.ylabel('Percentage Correctly Classified')\n",
        "plt.title('Training Accuracy')\n",
        "plt.ylim([60, 100])\n",
        "plt.plot(percentage_log_reg_train, 'r-.', label='Logistic (MSE)')\n",
        "plt.plot(percentage_log_reg_cross_train, 'g-', label='Logistic (Cross-Entropy)')\n",
        "plt.legend(loc='best')"
      ],
      "execution_count": 17,
      "outputs": [
        {
          "output_type": "execute_result",
          "data": {
            "text/plain": [
              "<matplotlib.legend.Legend at 0x7f001f63d3d0>"
            ]
          },
          "metadata": {},
          "execution_count": 17
        },
        {
          "output_type": "display_data",
          "data": {
            "image/png": "[encoded data removed]",
            "text/plain": [
              "<Figure size 432x288 with 1 Axes>"
            ]
          },
          "metadata": {
            "needs_background": "light"
          }
        }
      ]
    },
    {
      "cell_type": "code",
      "metadata": {
        "id": "tC6sQ1XGWsAz",
        "colab": {
          "base_uri": "https://localhost:8080/",
          "height": 332
        },
        "outputId": "be77afd0-a5c0-4723-af98-cc0e2d96407f"
      },
      "source": [
        "plt.xlabel('Iterations')\n",
        "plt.ylabel('Percentage Correctly Classified')\n",
        "plt.title('Test Accuracy')\n",
        "plt.ylim([60, 100])\n",
        "plt.plot(percentage_log_reg_test, 'r-.', label='Logistic (MSE)')\n",
        "plt.plot(percentage_log_reg_cross_test, 'g-', label='Logistic (Cross-Entropy)')\n",
        "plt.legend(loc='best')"
      ],
      "execution_count": 18,
      "outputs": [
        {
          "output_type": "execute_result",
          "data": {
            "text/plain": [
              "<matplotlib.legend.Legend at 0x7f001f5bfc10>"
            ]
          },
          "metadata": {},
          "execution_count": 18
        },
        {
          "output_type": "display_data",
          "data": {
            "image/png": "[encoded data removed]",
            "text/plain": [
              "<Figure size 432x288 with 1 Axes>"
            ]
          },
          "metadata": {
            "needs_background": "light"
          }
        }
      ]
    },
    {
      "cell_type": "markdown",
      "metadata": {
        "id": "gwFUZIouWsA0"
      },
      "source": [
        "<h4>Question 1 [2 Marks]</h4>\n",
        "\n",
        "Why is one of the versions of Logistic Regression learning faster in terms of gradient descent iterations than the other? (write your answer in this cell by double-clicking it)"
      ]
    },
    {
      "cell_type": "markdown",
      "metadata": {
        "id": "uhrEoPqBWsA0"
      },
      "source": [
        "The cell below plots an image for each set of weights learned for each neuron in the Logistic Regression model (Cross Entropy). There are 784 weight-values for each neuron that are transformed into an image of size $28 \\times 28$. "
      ]
    },
    {
      "cell_type": "code",
      "metadata": {
        "id": "feC9aEI6WsA0",
        "colab": {
          "base_uri": "https://localhost:8080/",
          "height": 1000
        },
        "outputId": "9b5f1ce0-7e17-42ee-ac86-434599dc06e3"
      },
      "source": [
        "for i in range(0, 10):\n",
        "    plot_digit(log_reg_cross.return_weights_of_digit(i).reshape(28, 28))"
      ],
      "execution_count": 19,
      "outputs": [
        {
          "output_type": "display_data",
          "data": {
            "image/png": "[encoded data removed]",
            "text/plain": [
              "<Figure size 432x288 with 1 Axes>"
            ]
          },
          "metadata": {
            "needs_background": "light"
          }
        },
        {
          "output_type": "display_data",
          "data": {
            "image/png": "[encoded data removed]",
            "text/plain": [
              "<Figure size 432x288 with 1 Axes>"
            ]
          },
          "metadata": {
            "needs_background": "light"
          }
        },
        {
          "output_type": "display_data",
          "data": {
            "image/png": "[encoded data removed]",
            "text/plain": [
              "<Figure size 432x288 with 1 Axes>"
            ]
          },
          "metadata": {
            "needs_background": "light"
          }
        },
        {
          "output_type": "display_data",
          "data": {
            "image/png": "[encoded data removed]",
            "text/plain": [
              "<Figure size 432x288 with 1 Axes>"
            ]
          },
          "metadata": {
            "needs_background": "light"
          }
        },
        {
          "output_type": "display_data",
          "data": {
            "image/png": "[encoded data removed]",
            "text/plain": [
              "<Figure size 432x288 with 1 Axes>"
            ]
          },
          "metadata": {
            "needs_background": "light"
          }
        },
        {
          "output_type": "display_data",
          "data": {
            "image/png": "[encoded data removed]",
            "text/plain": [
              "<Figure size 432x288 with 1 Axes>"
            ]
          },
          "metadata": {
            "needs_background": "light"
          }
        },
        {
          "output_type": "display_data",
          "data": {
            "image/png": "[encoded data removed]",
            "text/plain": [
              "<Figure size 432x288 with 1 Axes>"
            ]
          },
          "metadata": {
            "needs_background": "light"
          }
        },
        {
          "output_type": "display_data",
          "data": {
            "image/png": "[encoded data removed]",
            "text/plain": [
              "<Figure size 432x288 with 1 Axes>"
            ]
          },
          "metadata": {
            "needs_background": "light"
          }
        },
        {
          "output_type": "display_data",
          "data": {
            "image/png": "[encoded data removed]",
            "text/plain": [
              "<Figure size 432x288 with 1 Axes>"
            ]
          },
          "metadata": {
            "needs_background": "light"
          }
        },
        {
          "output_type": "display_data",
          "data": {
            "image/png": "[encoded data removed]",
            "text/plain": [
              "<Figure size 432x288 with 1 Axes>"
            ]
          },
          "metadata": {
            "needs_background": "light"
          }
        }
      ]
    },
    {
      "cell_type": "markdown",
      "metadata": {
        "id": "TeSNEFX1WsA0"
      },
      "source": [
        "<h4>Question 2 [3 Marks]</h4>\n",
        "\n",
        "Explain the images that were generated with the set of learned weights. Why do they look the way they do? (write your answer in this cell by double-clicking it)"
      ]
    },
    {
      "cell_type": "code",
      "metadata": {
        "id": "K-_V7XYrWsA0"
      },
      "source": [
        ""
      ],
      "execution_count": null,
      "outputs": []
    }
  ]
}